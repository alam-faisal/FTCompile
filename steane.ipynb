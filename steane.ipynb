{
 "cells": [
  {
   "cell_type": "code",
   "execution_count": 1,
   "id": "c387e6a4",
   "metadata": {},
   "outputs": [],
   "source": [
    "from css import *\n",
    "from qaravan.core import Z, pretty_print_sv\n",
    "from qaravan.tensorQ import StatevectorSim\n",
    "from qaravan.algebraQ import is_stabilized_by"
   ]
  },
  {
   "cell_type": "code",
   "execution_count": 5,
   "id": "2f23e6d8",
   "metadata": {},
   "outputs": [
    {
     "data": {
      "text/plain": [
       "'0.3536+0.0000j|0000000⟩ + 0.3536+0.0000j|0001111⟩ + 0.3536+0.0000j|0110011⟩ + 0.3536+0.0000j|0111100⟩ + 0.3536+0.0000j|1010101⟩ + 0.3536+0.0000j|1011010⟩ + 0.3536+0.0000j|1100110⟩ + 0.3536+0.0000j|1101001⟩'"
      ]
     },
     "execution_count": 5,
     "metadata": {},
     "output_type": "execute_result"
    }
   ],
   "source": [
    "encoding_circ = steane_encoder()\n",
    "\n",
    "sim = StatevectorSim(encoding_circ)\n",
    "sim.run(progress_bar=False)\n",
    "sv = sim.get_statevector()\n",
    "pretty_print_sv(sv, 2)"
   ]
  },
  {
   "cell_type": "code",
   "execution_count": 6,
   "id": "d8e06dcf",
   "metadata": {},
   "outputs": [
    {
     "name": "stdout",
     "output_type": "stream",
     "text": [
      "+X_X_X_X True\n",
      "+_XX__XX True\n",
      "+___XXXX True\n",
      "+Z_Z_Z_Z True\n",
      "+_ZZ__ZZ True\n",
      "+___ZZZZ True\n"
     ]
    }
   ],
   "source": [
    "stim_circ = qaravan_to_stim(encoding_circ)\n",
    "hmat = hamming_mat()\n",
    "stabilizers = css_stabilizers(hmat, hmat)\n",
    "for s in stabilizers:\n",
    "    print(s, is_stabilized_by(stim_circ, s))"
   ]
  },
  {
   "cell_type": "code",
   "execution_count": 7,
   "id": "556a39c0",
   "metadata": {},
   "outputs": [
    {
     "name": "stdout",
     "output_type": "stream",
     "text": [
      "+X_X_X_X True\n",
      "+_XX__XX True\n",
      "+___XXXX True\n",
      "+Z_Z_Z_Z False\n",
      "+_ZZ__ZZ True\n",
      "+___ZZZZ True\n"
     ]
    }
   ],
   "source": [
    "# flip one of the bits and see which stabilizers are violated\n",
    "erred_circ = stim_circ.copy()\n",
    "erred_circ.append('X', [0])\n",
    "for s in stabilizers:\n",
    "    print(s, is_stabilized_by(erred_circ, s))"
   ]
  },
  {
   "cell_type": "code",
   "execution_count": 8,
   "id": "62213de6",
   "metadata": {},
   "outputs": [
    {
     "name": "stdout",
     "output_type": "stream",
     "text": [
      "101000: 500\n"
     ]
    }
   ],
   "source": [
    "# deterministic error with a decoder circuit\n",
    "error = Circuit([Z(4)])\n",
    "circ = encoding_circ + error + css_decoder(hmat, hmat)\n",
    "stim_circ = qaravan_to_stim(circ)\n",
    "stim_circ.append('M', [7+i for i in range(6)])\n",
    "pretty_sample(stim_circ, num_samples=500)"
   ]
  },
  {
   "cell_type": "code",
   "execution_count": 9,
   "id": "d8352de2",
   "metadata": {},
   "outputs": [
    {
     "name": "stdout",
     "output_type": "stream",
     "text": [
      "000000: 269\n",
      "100000: 231\n"
     ]
    }
   ],
   "source": [
    "# stochastic error with a decoder circuit\n",
    "enc_stim = qaravan_to_stim(encoding_circ)\n",
    "dec_stim = qaravan_to_stim(css_decoder(hmat, hmat))\n",
    "\n",
    "p = 0.5\n",
    "err_stim = stim.Circuit()\n",
    "err_stim.append(\"Z_ERROR\", [0], p)\n",
    "full_stim = enc_stim + err_stim + dec_stim\n",
    "full_stim.append(\"M\", [7 + i for i in range(6)])\n",
    "pretty_sample(full_stim, num_samples=500)"
   ]
  },
  {
   "cell_type": "code",
   "execution_count": 10,
   "id": "194ef315",
   "metadata": {},
   "outputs": [
    {
     "name": "stdout",
     "output_type": "stream",
     "text": [
      "Logical failure rate: 0.0039000000000000146\n"
     ]
    }
   ],
   "source": [
    "# simulating a cycle of the Steane code\n",
    "\n",
    "num_sites = 7\n",
    "px = 0.01\n",
    "pz = 0.01\n",
    "\n",
    "enc_stim = qaravan_to_stim(steane_encoder())\n",
    "hmat = hamming_mat()\n",
    "\n",
    "err = stim.Circuit()\n",
    "err.append(\"Z_ERROR\", [i for i in range(num_sites)], pz)\n",
    "err.append(\"X_ERROR\", [i for i in range(num_sites)], px)\n",
    "\n",
    "full_stim = css_circuit(enc_stim, err, hmat, hmat)\n",
    "logical_fails = [cycle(enc_stim, full_stim, hmat, hmat) for _ in range(10000)]\n",
    "print(f\"Logical failure rate: {1-np.mean(logical_fails)}\")"
   ]
  }
 ],
 "metadata": {
  "kernelspec": {
   "display_name": "ft_compile",
   "language": "python",
   "name": "python3"
  },
  "language_info": {
   "codemirror_mode": {
    "name": "ipython",
    "version": 3
   },
   "file_extension": ".py",
   "mimetype": "text/x-python",
   "name": "python",
   "nbconvert_exporter": "python",
   "pygments_lexer": "ipython3",
   "version": "3.8.13"
  }
 },
 "nbformat": 4,
 "nbformat_minor": 5
}
