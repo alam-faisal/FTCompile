{
 "cells": [
  {
   "cell_type": "markdown",
   "id": "2b698eb5",
   "metadata": {},
   "source": [
    "# Implementation of [[7,4,3]] Hamming code"
   ]
  },
  {
   "cell_type": "code",
   "execution_count": 5,
   "id": "7f42a946",
   "metadata": {},
   "outputs": [],
   "source": [
    "import numpy as np\n",
    "import galois\n",
    "import matplotlib.pyplot as plt"
   ]
  },
  {
   "cell_type": "code",
   "execution_count": 6,
   "id": "2619dc78",
   "metadata": {},
   "outputs": [
    {
     "name": "stdout",
     "output_type": "stream",
     "text": [
      "GH^T = [[0 0 0]\n",
      " [0 0 0]\n",
      " [0 0 0]\n",
      " [0 0 0]]\n"
     ]
    }
   ],
   "source": [
    "GF2 = galois.GF(2)\n",
    "\n",
    "# parity check matrix\n",
    "H = np.array([\n",
    "    [1, 0, 1, 0, 1, 0, 1], \n",
    "    [0, 1, 1, 0, 0, 1, 1], \n",
    "    [0, 0, 0, 1, 1, 1, 1],\n",
    "])\n",
    "\n",
    "H = GF2(H)\n",
    "\n",
    "# generator matrix is null_space of H\n",
    "G = H.null_space()\n",
    "print(f'GH^T = {G @ H.T}')"
   ]
  },
  {
   "cell_type": "code",
   "execution_count": 7,
   "id": "87ffd63e",
   "metadata": {},
   "outputs": [
    {
     "name": "stdout",
     "output_type": "stream",
     "text": [
      "codeword = [1 0 0 1 1 0 0]\n",
      "Hx^T = [0 0 0]\n"
     ]
    }
   ],
   "source": [
    "# encoding a message into a codeword\n",
    "m = np.array([1, 0, 0, 1])\n",
    "m = GF2(m)\n",
    "x = m @ G\n",
    "\n",
    "print(f'codeword = {x}')\n",
    "print(f'Hx^T = {H @ x.T}')"
   ]
  },
  {
   "cell_type": "code",
   "execution_count": 8,
   "id": "2b674fac",
   "metadata": {},
   "outputs": [
    {
     "name": "stdout",
     "output_type": "stream",
     "text": [
      "syndrome = [0 0 1]\n",
      "bit 3 flipped\n",
      "remaining error = 0.0\n"
     ]
    }
   ],
   "source": [
    "# flip a bit \n",
    "xp = x + GF2([0, 0, 0, 1, 0, 0, 0])\n",
    "\n",
    "# extract syndrome\n",
    "s = H @ xp.T\n",
    "print(f'syndrome = {s}')\n",
    "\n",
    "# decode syndrome\n",
    "flipped_loc = np.where((H.T == s).all(axis=1))[0][0]\n",
    "print(f\"bit {flipped_loc} flipped\")\n",
    "\n",
    "# correct codeword\n",
    "xp[flipped_loc] = GF2(1) - xp[flipped_loc]\n",
    "remaining_error = np.linalg.norm(xp-x) \n",
    "print(f\"remaining error = {remaining_error}\")"
   ]
  },
  {
   "cell_type": "code",
   "execution_count": 9,
   "id": "b942dbd3",
   "metadata": {},
   "outputs": [
    {
     "name": "stdout",
     "output_type": "stream",
     "text": [
      "syndrome = [1 1 0]\n",
      "bit 2 flipped\n",
      "remaining error = 1.7320508075688772\n"
     ]
    }
   ],
   "source": [
    "# detection but no correction\n",
    "xp = x + GF2([0, 0, 0, 1, 0, 0, 1])\n",
    "s = H @ xp.T\n",
    "print(f'syndrome = {s}')\n",
    "\n",
    "# decode syndrome\n",
    "flipped_loc = np.where((H.T == s).all(axis=1))[0][0]\n",
    "print(f\"bit {flipped_loc} flipped\")\n",
    "\n",
    "# correct codeword\n",
    "xp[flipped_loc] = GF2(1) - xp[flipped_loc]\n",
    "remaining_error = np.linalg.norm(xp-x) \n",
    "print(f\"remaining error = {remaining_error}\")"
   ]
  },
  {
   "cell_type": "code",
   "execution_count": 10,
   "id": "93ef64c1",
   "metadata": {},
   "outputs": [
    {
     "name": "stdout",
     "output_type": "stream",
     "text": [
      "syndrome = [0 0 0]\n",
      "remaining error = 1.7320508075688772\n"
     ]
    }
   ],
   "source": [
    "# cannot even detect\n",
    "xp = x + GF2([0, 0, 1, 1, 0, 0, 1])\n",
    "s = H @ xp.T\n",
    "print(f'syndrome = {s}')\n",
    "\n",
    "remaining_error = np.linalg.norm(xp-x) \n",
    "print(f\"remaining error = {remaining_error}\")"
   ]
  },
  {
   "cell_type": "code",
   "execution_count": 11,
   "id": "12712c42",
   "metadata": {},
   "outputs": [
    {
     "name": "stdout",
     "output_type": "stream",
     "text": [
      "distance = 3\n"
     ]
    }
   ],
   "source": [
    "# distance of code\n",
    "d = min(sum(g) for g in np.array(G))\n",
    "print(f'distance = {d}')"
   ]
  },
  {
   "cell_type": "code",
   "execution_count": 12,
   "id": "ec51138e",
   "metadata": {},
   "outputs": [
    {
     "name": "stdout",
     "output_type": "stream",
     "text": [
      "threshold = 0.06785454573393576\n"
     ]
    }
   ],
   "source": [
    "def cycle(x, p): \n",
    "    err = GF2([1 if np.random.rand() < p else 0 for _ in range(7)])\n",
    "    xp = x + err\n",
    "    s = H @ xp.T\n",
    "\n",
    "    flipped_loc = np.where((H.T == s).all(axis=1))[0]\n",
    "    if len(flipped_loc) > 0:\n",
    "        flipped_loc = flipped_loc[0]\n",
    "        xp[flipped_loc] = GF2(1) - xp[flipped_loc]\n",
    "    \n",
    "    remaining_error = np.linalg.norm(xp-x) \n",
    "    return remaining_error != 0        \n",
    "\n",
    "num_cycles = 1000\n",
    "reps = 10\n",
    "pp_opts = np.logspace(-3, -0.1, 20)\n",
    "\n",
    "pl_means = []\n",
    "pl_stds = []\n",
    "for pp in pp_opts:\n",
    "    pl_list = []\n",
    "    for _ in range(reps):\n",
    "        pl = sum([cycle(x, pp) for _ in range(num_cycles)])/num_cycles\n",
    "        pl_list.append(pl)\n",
    "\n",
    "    pl_means.append(np.mean(pl_list))\n",
    "    pl_stds.append(np.std(pl_list))\n",
    "\n",
    "threshold = 0.0 \n",
    "for pp, pl in zip(pp_opts, pl_means):\n",
    "    if pl > pp:\n",
    "        threshold = pp\n",
    "        break\n",
    "print(f\"threshold = {threshold}\")"
   ]
  },
  {
   "cell_type": "code",
   "execution_count": 15,
   "id": "f5a393ff",
   "metadata": {},
   "outputs": [
    {
     "data": {
      "image/png": "[encoded data removed]",
      "text/plain": [
       "<Figure size 640x480 with 1 Axes>"
      ]
     },
     "metadata": {},
     "output_type": "display_data"
    }
   ],
   "source": [
    "plt.errorbar(pp_opts, pl_means, yerr=pl_stds, fmt='o')\n",
    "plt.plot(pp_opts, pp_opts, 'r--', label='break-even')\n",
    "plt.axvline(threshold, linestyle='--', label='threshold: {:.2f}'.format(threshold))\n",
    "plt.xscale('log')\n",
    "plt.yscale('log')\n",
    "plt.xlabel('physical error rate')\n",
    "plt.ylabel('logical error rate')\n",
    "plt.legend()\n",
    "plt.title('Hamming code threshold')\n",
    "plt.grid()\n",
    "#plt.savefig('hamming_threshold.pdf', bbox_inches='tight')\n",
    "# save figure with high resolution png\n",
    "plt.savefig('hamming_threshold.png', dpi=300, bbox_inches='tight')"
   ]
  },
  {
   "cell_type": "code",
   "execution_count": null,
   "id": "106e2a4e",
   "metadata": {},
   "outputs": [
    {
     "name": "stdout",
     "output_type": "stream",
     "text": [
      "threshold = 0.06785454573393576\n"
     ]
    }
   ],
   "source": []
  },
  {
   "cell_type": "code",
   "execution_count": null,
   "id": "bd421931",
   "metadata": {},
   "outputs": [],
   "source": []
  }
 ],
 "metadata": {
  "kernelspec": {
   "display_name": "ft_compile",
   "language": "python",
   "name": "python3"
  },
  "language_info": {
   "codemirror_mode": {
    "name": "ipython",
    "version": 3
   },
   "file_extension": ".py",
   "mimetype": "text/x-python",
   "name": "python",
   "nbconvert_exporter": "python",
   "pygments_lexer": "ipython3",
   "version": "3.8.13"
  }
 },
 "nbformat": 4,
 "nbformat_minor": 5
}
